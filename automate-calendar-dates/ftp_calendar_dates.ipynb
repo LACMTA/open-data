{
 "cells": [
  {
   "cell_type": "code",
   "execution_count": 76,
   "source": [
    "import os\n",
    "import ftplib\n",
    "import secrets as secrets\n",
    "\n",
    "login = secrets.login\n",
    "pw = secrets.pw\n",
    "ftpURL = secrets.ftpURL\n",
    "ftpDir = secrets.ftpDir\n",
    "\n",
    "outDir = 'output/'\n",
    "filename = 'calendar_dates.txt'"
   ],
   "outputs": [],
   "metadata": {}
  },
  {
   "cell_type": "code",
   "execution_count": 77,
   "source": [
    "if not os.path.exists(outDir): \n",
    "\tprint('Creating ' + outDir)\n",
    "\tos.mkdir(outDir)"
   ],
   "outputs": [],
   "metadata": {}
  },
  {
   "cell_type": "code",
   "execution_count": 78,
   "source": [
    "ftp = ftplib.FTP(ftpURL)\n",
    "ftp.login(login, pw)\n",
    "ftp.cwd(ftpDir)\n",
    "\n",
    "#print (ftp.welcome)"
   ],
   "outputs": [
    {
     "output_type": "execute_result",
     "data": {
      "text/plain": [
       "'250 CWD command successful.'"
      ]
     },
     "metadata": {},
     "execution_count": 78
    }
   ],
   "metadata": {}
  },
  {
   "cell_type": "code",
   "execution_count": 79,
   "source": [
    "files = ftp.nlst(filename)\n",
    "\n",
    "#print(files)\n",
    "\n",
    "if len(files) > 0 and files[0] == filename:\n",
    "\tprint(outDir + filename)\n",
    "\tmodification_time = ftp.voidcmd('MDTM ' + filename)\n",
    "\tprint(modification_time)\n",
    "\tftp.retrbinary(\"RETR \" + filename, open(outDir + filename, 'wb').write)\n",
    "\n",
    "os.listdir(outDir)"
   ],
   "outputs": [
    {
     "output_type": "stream",
     "name": "stdout",
     "text": [
      "output/calendar_dates.txt\n",
      "213 20211103072604\n"
     ]
    },
    {
     "output_type": "execute_result",
     "data": {
      "text/plain": [
       "['calendar_dates.txt']"
      ]
     },
     "metadata": {},
     "execution_count": 79
    }
   ],
   "metadata": {}
  },
  {
   "cell_type": "code",
   "execution_count": 80,
   "source": [
    "ftp.close()"
   ],
   "outputs": [],
   "metadata": {}
  }
 ],
 "metadata": {
  "orig_nbformat": 4,
  "language_info": {
   "name": "python",
   "version": "3.6.9",
   "mimetype": "text/x-python",
   "codemirror_mode": {
    "name": "ipython",
    "version": 3
   },
   "pygments_lexer": "ipython3",
   "nbconvert_exporter": "python",
   "file_extension": ".py"
  },
  "kernelspec": {
   "name": "python3",
   "display_name": "Python 3.6.9 64-bit"
  },
  "interpreter": {
   "hash": "31f2aee4e71d21fbe5cf8b01ff0e069b9275f58929596ceb00d14d90e3e16cd6"
  }
 },
 "nbformat": 4,
 "nbformat_minor": 2
}